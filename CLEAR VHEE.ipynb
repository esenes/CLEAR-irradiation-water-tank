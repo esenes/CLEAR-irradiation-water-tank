{
 "cells": [
  {
   "cell_type": "markdown",
   "metadata": {},
   "source": [
    "# CLEAR VHEE experiment calculations\n",
    "\n",
    "Angle calculations for the water tank irradiation experiment at CLEAR."
   ]
  },
  {
   "cell_type": "code",
   "execution_count": 1,
   "metadata": {
    "collapsed": true
   },
   "outputs": [],
   "source": [
    "import numpy as np"
   ]
  },
  {
   "cell_type": "code",
   "execution_count": 13,
   "metadata": {
    "collapsed": true
   },
   "outputs": [],
   "source": [
    "def getAngleAndSize(beta_entrance, beta_centre, emittance, distance):\n",
    "    '''\n",
    "    Calculate the angle of the beam cone\n",
    "\n",
    "    Inputs:\n",
    "    - beta_entrance:  beta at the beginning of the box\n",
    "    - beta_centre:    beta at the waist \n",
    "    - emittance\n",
    "    - distance:       distance between the two points where the betas are calculated\n",
    "\n",
    "    Outputs:\n",
    "    - angle:          the beam angle\n",
    "    - size:           the beam minimum size\n",
    "\n",
    "    Last modified: 10.09.2018 by Eugenio Senes\n",
    "    '''\n",
    "    angle = np.degrees(np.arctan(np.sqrt(emittance*(beta_entrance-beta_centre))/distance))\n",
    "    size = 2*np.sqrt(beta_centre*emittance)\n",
    "    return angle, size\n"
   ]
  },
  {
   "cell_type": "code",
   "execution_count": 17,
   "metadata": {},
   "outputs": [
    {
     "data": {
      "text/plain": [
       "(6.586591925812557, 0.0002598076211353316)"
      ]
     },
     "execution_count": 17,
     "metadata": {},
     "output_type": "execute_result"
    }
   ],
   "source": [
    "getAngleAndSize(20, 1.125e-3, 15e-6, 0.15)"
   ]
  },
  {
   "cell_type": "code",
   "execution_count": null,
   "metadata": {
    "collapsed": true
   },
   "outputs": [],
   "source": []
  }
 ],
 "metadata": {
  "kernelspec": {
   "display_name": "Python 3",
   "language": "python",
   "name": "python3"
  },
  "language_info": {
   "codemirror_mode": {
    "name": "ipython",
    "version": 3
   },
   "file_extension": ".py",
   "mimetype": "text/x-python",
   "name": "python",
   "nbconvert_exporter": "python",
   "pygments_lexer": "ipython3",
   "version": "3.6.1"
  }
 },
 "nbformat": 4,
 "nbformat_minor": 2
}
